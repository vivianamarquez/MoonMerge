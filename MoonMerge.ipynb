{
 "cells": [
  {
   "cell_type": "code",
   "execution_count": 55,
   "id": "75b43ecd-6dcf-4b09-978c-dbe823c63a44",
   "metadata": {},
   "outputs": [],
   "source": [
    "import gym\n",
    "import time\n",
    "import pyautogui\n",
    "import numpy as np"
   ]
  },
  {
   "cell_type": "code",
   "execution_count": 56,
   "id": "ce91ca8e-6a3c-48a3-a00b-b3cbed0bcc5f",
   "metadata": {},
   "outputs": [],
   "source": [
    "from selenium import webdriver\n",
    "from selenium.webdriver.common.by import By\n",
    "from selenium.webdriver.common.keys import Keys\n",
    "from selenium.webdriver.chrome.service import Service\n",
    "from selenium.webdriver.support.ui import WebDriverWait\n",
    "from selenium.webdriver.common.action_chains import ActionChains\n",
    "from selenium.webdriver.support import expected_conditions as EC"
   ]
  },
  {
   "cell_type": "code",
   "execution_count": 57,
   "id": "8eac824e-fe90-4e2e-8517-eea6002a69cc",
   "metadata": {},
   "outputs": [],
   "source": [
    "# Open browser\n",
    "service = Service()\n",
    "options = webdriver.ChromeOptions()\n",
    "driver = webdriver.Chrome(service=service, options=options)"
   ]
  },
  {
   "cell_type": "code",
   "execution_count": 58,
   "id": "e94ccd31-c96e-4da6-9b7c-fbf093d36637",
   "metadata": {},
   "outputs": [],
   "source": [
    "# Go to webpage\n",
    "game_url = 'https://windoge98.com/#/' \n",
    "driver.get(game_url)"
   ]
  },
  {
   "cell_type": "code",
   "execution_count": 59,
   "id": "48fab147-ad67-492a-8cb8-704ad68fceb2",
   "metadata": {},
   "outputs": [],
   "source": [
    "# Maximize window and wait \n",
    "driver.maximize_window()\n",
    "driver.implicitly_wait(10)"
   ]
  },
  {
   "cell_type": "code",
   "execution_count": 61,
   "id": "b41e1032-e793-4c5b-9d35-19bdc6600a7d",
   "metadata": {},
   "outputs": [],
   "source": [
    "# Boot Windoge\n",
    "element = driver.find_element(By.CSS_SELECTOR, 'ul.selected')\n",
    "driver.execute_script(\"arguments[0].click();\", element)"
   ]
  },
  {
   "cell_type": "code",
   "execution_count": 62,
   "id": "60e390ad-2079-4c5d-a505-55a283e6f207",
   "metadata": {},
   "outputs": [],
   "source": [
    "# Click on start \n",
    "button = driver.find_element(By.CLASS_NAME, 'start-button')\n",
    "button.click()"
   ]
  },
  {
   "cell_type": "code",
   "execution_count": 63,
   "id": "4dabf00a-bc44-40a8-b3da-dc854d52176d",
   "metadata": {},
   "outputs": [],
   "source": [
    "# Find Games tab\n",
    "\n",
    "# XPath to target the span containing \"Games\" text\n",
    "games_xpath = \"//div[contains(@class, 'start-menu-item')]//span[text()='Games']\"\n",
    "\n",
    "# Wait for the element to be present\n",
    "games_element = WebDriverWait(driver, 10).until(\n",
    "    EC.presence_of_element_located((By.XPATH, games_xpath))\n",
    ")\n",
    "\n",
    "# Create an ActionChains object and move to the \"Games\" element to hover\n",
    "hover = ActionChains(driver).move_to_element(games_element)\n",
    "hover.perform()"
   ]
  },
  {
   "cell_type": "code",
   "execution_count": 64,
   "id": "53eaf3c2-1e75-44f3-ba56-6c14eae7b186",
   "metadata": {},
   "outputs": [],
   "source": [
    "# Find MoonMerge98 tab\n",
    "\n",
    "# XPath to target the div containing \"MoonMerge98\" text\n",
    "moonmerge_xpath = \"//div[contains(@class, 'start-menu-item') and contains(text(), 'MoonMerge98')]\"\n",
    "\n",
    "# Wait for the \"MoonMerge98\" element to become clickable after the submenu appears\n",
    "moonmerge_element = WebDriverWait(driver, 10).until(\n",
    "    EC.element_to_be_clickable((By.XPATH, moonmerge_xpath))\n",
    ")\n",
    "\n",
    "# Click on the \"MoonMerge98\" element\n",
    "moonmerge_element.click()"
   ]
  },
  {
   "cell_type": "code",
   "execution_count": 65,
   "id": "b2a16119-538a-42c5-bff9-a3959acd6b3b",
   "metadata": {},
   "outputs": [],
   "source": [
    "# Click on start again to get rid of it\n",
    "button = driver.find_element(By.CLASS_NAME, 'start-button')\n",
    "button.click()"
   ]
  },
  {
   "cell_type": "code",
   "execution_count": 66,
   "id": "a1520fb7-bbb1-4821-901f-92b7c41393cf",
   "metadata": {},
   "outputs": [],
   "source": [
    "# Maximize MoonMerge98\n",
    "\n",
    "# XPath to locate the \"Maximize\" button associated with \"MoonMerge98\"\n",
    "maximize_button_xpath = \"//div[contains(@class, 'title-bar-text') and contains(., 'MoonMerge98')]/ancestor::div[contains(@class, 'title-bar')]//button[@aria-label='Maximize']\"\n",
    "\n",
    "# Wait for the \"Maximize\" button to be clickable\n",
    "maximize_button = WebDriverWait(driver, 10).until(\n",
    "    EC.element_to_be_clickable((By.XPATH, maximize_button_xpath))\n",
    ")\n",
    "\n",
    "# Click the \"Maximize\" button\n",
    "maximize_button.click()"
   ]
  },
  {
   "cell_type": "code",
   "execution_count": 67,
   "id": "d84522d3-9d3b-4aa6-bfc9-759175c097c6",
   "metadata": {},
   "outputs": [],
   "source": [
    "# Define down/right/left keys\n",
    "\n",
    "def press_key(driver, key, delay=0.01):\n",
    "    # Key down event\n",
    "    js_script_down = f\"\"\"\n",
    "    var eventDown = new KeyboardEvent('keydown', {{\n",
    "        key: '{key}',\n",
    "        code: '{key}Arrow',\n",
    "        keyCode: {{'ArrowDown': 40, 'ArrowLeft': 37, 'ArrowRight': 39}}['{key}'],\n",
    "        which: {{'ArrowDown': 40, 'ArrowLeft': 37, 'ArrowRight': 39}}['{key}'],\n",
    "        bubbles: true\n",
    "    }});\n",
    "    window.dispatchEvent(eventDown);\n",
    "    \"\"\"\n",
    "    driver.execute_script(js_script_down)\n",
    "    \n",
    "    time.sleep(delay)  # Pause Python execution to simulate key hold\n",
    "\n",
    "    # Key up event\n",
    "    js_script_up = f\"\"\"\n",
    "    var eventUp = new KeyboardEvent('keyup', {{\n",
    "        key: '{key}',\n",
    "        code: '{key}Arrow',\n",
    "        keyCode: {{'ArrowDown': 40, 'ArrowLeft': 37, 'ArrowRight': 39}}['{key}'],\n",
    "        which: {{'ArrowDown': 40, 'ArrowLeft': 37, 'ArrowRight': 39}}['{key}'],\n",
    "        bubbles: true\n",
    "    }});\n",
    "    window.dispatchEvent(eventUp);\n",
    "    \"\"\"\n",
    "    driver.execute_script(js_script_up)\n",
    "\n",
    "def press_down(driver, delay=0.01):\n",
    "    press_key(driver, \"ArrowDown\", delay)\n",
    "\n",
    "def press_left(driver, delay=0.01):\n",
    "    press_key(driver, \"ArrowLeft\", delay)\n",
    "\n",
    "def press_right(driver, delay=0.01):\n",
    "    press_key(driver, \"ArrowRight\", delay)"
   ]
  },
  {
   "cell_type": "code",
   "execution_count": null,
   "id": "1d7abe02-765c-4b32-8721-68c2179197e0",
   "metadata": {},
   "outputs": [],
   "source": [
    "# Define button to restart the game\n",
    "\n",
    "def press_r(driver, delay=0.1):\n",
    "    # JavaScript for key down event\n",
    "    js_script_down = \"\"\"\n",
    "    var eventDown = new KeyboardEvent('keydown', {\n",
    "        key: 'r',\n",
    "        code: 'KeyR',\n",
    "        keyCode: 82,\n",
    "        which: 82,\n",
    "        bubbles: true\n",
    "    });\n",
    "    window.dispatchEvent(eventDown);\n",
    "    \"\"\"\n",
    "    driver.execute_script(js_script_down)\n",
    "    \n",
    "    time.sleep(delay)  # Pause Python execution to simulate key hold\n",
    "\n",
    "    # JavaScript for key up event\n",
    "    js_script_up = \"\"\"\n",
    "    var eventUp = new KeyboardEvent('keyup', {\n",
    "        key: 'r',\n",
    "        code: 'KeyR',\n",
    "        keyCode: 82,\n",
    "        which: 82,\n",
    "        bubbles: true\n",
    "    });\n",
    "    window.dispatchEvent(eventUp);\n",
    "    \"\"\"\n",
    "    driver.execute_script(js_script_up)\n"
   ]
  },
  {
   "cell_type": "code",
   "execution_count": 68,
   "id": "9976edf0-224f-465b-a1ae-6dc6213a7455",
   "metadata": {},
   "outputs": [],
   "source": [
    "# Switch to the iframe\n",
    "iframe = driver.find_element(By.CSS_SELECTOR, \"iframe[title='MoonMerge98']\")\n",
    "driver.switch_to.frame(iframe)"
   ]
  },
  {
   "cell_type": "code",
   "execution_count": 75,
   "id": "c548db26-fea8-46ec-b216-3e2d2b31a045",
   "metadata": {},
   "outputs": [],
   "source": [
    "# Play here\n",
    "press_down(driver)"
   ]
  },
  {
   "cell_type": "code",
   "execution_count": 72,
   "id": "e6f030c9-4ac7-486c-974b-a0f824de1044",
   "metadata": {},
   "outputs": [],
   "source": [
    "#driver.switch_to.default_content()\n",
    "#driver.quit()"
   ]
  }
 ],
 "metadata": {
  "kernelspec": {
   "display_name": "Python 3 (ipykernel)",
   "language": "python",
   "name": "python3"
  },
  "language_info": {
   "codemirror_mode": {
    "name": "ipython",
    "version": 3
   },
   "file_extension": ".py",
   "mimetype": "text/x-python",
   "name": "python",
   "nbconvert_exporter": "python",
   "pygments_lexer": "ipython3",
   "version": "3.10.13"
  }
 },
 "nbformat": 4,
 "nbformat_minor": 5
}
